{
 "cells": [
  {
   "cell_type": "markdown",
   "metadata": {},
   "source": [
    "## 講習5 --- astropy.io.fitsの基本  \n",
    "\n",
    "\n",
    "FITSデータの読み書きが可能なモジュールです。  元々、pyfitsと呼ばれていたものです。astropyに吸収されてそちらで統一的に管理されるようです。  \n",
    "astropy.io.fitsの使い方は、 \n",
    "http://docs.astropy.org/en/stable/io/fits/index.html\n",
    "が非常に参考になります。  例が多く記載されているのでわかりやすいです。  \n",
    "\n",
    "PyRAFでもFITSデータの読み書きはできるのですが、ndarrayとしてデータを読み出しておくとより自由な処理を行うことができます。例えば、IRAFには存在しない統計アルゴリズムを適用する、あるいは、matplotlibを用いた自由度の高い可視化などです。\n",
    "\n"
   ]
  },
  {
   "cell_type": "code",
   "execution_count": 1,
   "metadata": {
    "collapsed": true
   },
   "outputs": [],
   "source": [
    "from astropy.io import fits"
   ]
  },
  {
   "cell_type": "markdown",
   "metadata": {},
   "source": [
    "まずastropy.ioからfitsをimportしておきます。\n",
    "\n",
    "### 基本のgetdataとgetheader \n",
    "まずは簡単なデータ読み出し方法。** fits.getdata( )**と **fits.getheader( )**です。  主にインタラクティブなケースで使われます。  \n",
    "\n",
    "まずはピクセル値をgetdataでndarrayとして読み出します。"
   ]
  },
  {
   "cell_type": "code",
   "execution_count": 2,
   "metadata": {
    "collapsed": true
   },
   "outputs": [],
   "source": [
    "data = fits.getdata('./data1/SUPA00317505.fits')  #  ドームフラットの生データ "
   ]
  },
  {
   "cell_type": "code",
   "execution_count": 3,
   "metadata": {},
   "outputs": [
    {
     "data": {
      "text/plain": [
       "array([[15798, 15697, 14527, ...,  9985,  9981,  9976],\n",
       "       [18091, 33233, 30777, ...,  9991,  9987,  9978],\n",
       "       [15287, 31092, 25091, ...,  9986,  9981,  9979],\n",
       "       ..., \n",
       "       [19053, 36375, 25385, ..., 10004, 10007,  9997],\n",
       "       [16965, 34236, 24216, ...,  9998, 10001, 10000],\n",
       "       [18178, 32768, 22645, ..., 10015, 10008, 10013]], dtype=uint16)"
      ]
     },
     "execution_count": 3,
     "metadata": {},
     "output_type": "execute_result"
    }
   ],
   "source": [
    "data"
   ]
  },
  {
   "cell_type": "markdown",
   "metadata": {},
   "source": [
    "ndarrayとして読み出すので、numpyの関数が使えます。  "
   ]
  },
  {
   "cell_type": "code",
   "execution_count": 4,
   "metadata": {
    "collapsed": true
   },
   "outputs": [],
   "source": [
    "import numpy as np"
   ]
  },
  {
   "cell_type": "code",
   "execution_count": 5,
   "metadata": {},
   "outputs": [
    {
     "data": {
      "text/plain": [
       "(18931.0, 1212.2635026788732, 9681, 38631)"
      ]
     },
     "execution_count": 5,
     "metadata": {},
     "output_type": "execute_result"
    }
   ],
   "source": [
    "np.median(data), np.std(data), np.min(data), np.max(data)"
   ]
  },
  {
   "cell_type": "markdown",
   "metadata": {},
   "source": [
    "オーバースキャンの部分も含めて統計をとっているので、標準偏差(np.std)が大きな値になっています。  \n",
    "オーバースキャンの部分を除いて統計をとってみましょう。  \n",
    "\n",
    "ndarrayなので、**[y, x]**の順に範囲を指定します。  \n",
    "**[y_start:y_end, x_start:x_end]** のように範囲をしていします。値を省略すると、「最初から」 あるいは 「最後まで」となります。左右両方を省略すると「全部」です。    "
   ]
  },
  {
   "cell_type": "code",
   "execution_count": 6,
   "metadata": {},
   "outputs": [
    {
     "data": {
      "text/plain": [
       "(18935.0, 409.56087590112406, 9739, 38594)"
      ]
     },
     "execution_count": 6,
     "metadata": {},
     "output_type": "execute_result"
    }
   ],
   "source": [
    "subdata = data[:, :2045]\n",
    "np.median(subdata), np.std(subdata), np.min(subdata), np.max(subdata)"
   ]
  },
  {
   "cell_type": "markdown",
   "metadata": {},
   "source": [
    "上限値と下限値を適切に設定し、3-sigmaクリッップすると標準偏差がもう少し小さくなります。  "
   ]
  },
  {
   "cell_type": "code",
   "execution_count": 7,
   "metadata": {},
   "outputs": [
    {
     "name": "stdout",
     "output_type": "stream",
     "text": [
      "18934.0 213.65\n"
     ]
    }
   ],
   "source": [
    "xx = np.where((subdata > 15000) & (subdata < 30000))\n",
    "med = np.median(subdata[xx])\n",
    "std = np.std(subdata[xx])\n",
    "\n",
    "xx = np.where((subdata > med - 3 * std) & (subdata < med + 3 * std))\n",
    "med = np.median(subdata[xx])\n",
    "std = np.std(subdata[xx])\n",
    "print ('{} {:.2f}'.format(med, std))   #   format()関数使ってみた"
   ]
  },
  {
   "cell_type": "markdown",
   "metadata": {},
   "source": [
    "次にgetheaderを使ってFITSヘッダを読み出します。  "
   ]
  },
  {
   "cell_type": "code",
   "execution_count": 8,
   "metadata": {
    "collapsed": true
   },
   "outputs": [],
   "source": [
    "header = fits.getheader('./data1/SUPA00317505.fits')"
   ]
  },
  {
   "cell_type": "markdown",
   "metadata": {},
   "source": [
    "ここで、header あるいは print(header) をcellで実行すると、FITSヘッダの中身が表示されます。  "
   ]
  },
  {
   "cell_type": "code",
   "execution_count": 9,
   "metadata": {
    "collapsed": true
   },
   "outputs": [],
   "source": [
    "# header   # これをするとgithubでは表示が長くなるのでここではコメントアウト"
   ]
  },
  {
   "cell_type": "markdown",
   "metadata": {},
   "source": [
    "最初の10項目だけを表示させます。"
   ]
  },
  {
   "cell_type": "code",
   "execution_count": 10,
   "metadata": {},
   "outputs": [
    {
     "data": {
      "text/plain": [
       "SIMPLE  =                    T / file does conform to FITS standard             \n",
       "BITPIX  =                   16 / number of bits per data pixel                  \n",
       "NAXIS   =                    2 / number of data axes                            \n",
       "NAXIS1  =                 2080 / length of data axis 1                          \n",
       "NAXIS2  =                 4100 / length of data axis 2                          \n",
       "EXTEND  =                    F / FITS dataset may contain extensions            \n",
       "BZERO   =              32768.0 / offset data range to that of unsigned short    \n",
       "BSCALE  =                  1.0 / default scaling factor                         \n",
       "BUNIT   = 'ADU     '           / Unit of original pixel value                   \n",
       "BLANK   =               -32768 / Value used for NULL pixels                     "
      ]
     },
     "execution_count": 10,
     "metadata": {},
     "output_type": "execute_result"
    }
   ],
   "source": [
    "header[:10]"
   ]
  },
  {
   "cell_type": "code",
   "execution_count": 11,
   "metadata": {},
   "outputs": [
    {
     "data": {
      "text/plain": [
       "'DOMEFLAT'"
      ]
     },
     "execution_count": 11,
     "metadata": {},
     "output_type": "execute_result"
    }
   ],
   "source": [
    "header['OBJECT']"
   ]
  },
  {
   "cell_type": "markdown",
   "metadata": {},
   "source": [
    "このようにヘッダのキーワードを指定して、その値を取り出すことができます。"
   ]
  },
  {
   "cell_type": "markdown",
   "metadata": {},
   "source": [
    "** [小技] **  \n",
    "実は、fits.getdata( )でヘッダも読み出すことができます。"
   ]
  },
  {
   "cell_type": "code",
   "execution_count": 12,
   "metadata": {
    "collapsed": true
   },
   "outputs": [],
   "source": [
    "tdata, thdr = fits.getdata('./data1/SUPA00317505.fits', header = True) "
   ]
  },
  {
   "cell_type": "code",
   "execution_count": 13,
   "metadata": {},
   "outputs": [
    {
     "data": {
      "text/plain": [
       "SIMPLE  =                    T / file does conform to FITS standard             \n",
       "BITPIX  =                   16 / number of bits per data pixel                  \n",
       "NAXIS   =                    2 / number of data axes                            \n",
       "NAXIS1  =                 2080 / length of data axis 1                          \n",
       "NAXIS2  =                 4100 / length of data axis 2                          \n",
       "EXTEND  =                    F / FITS dataset may contain extensions            \n",
       "BZERO   =              32768.0 / offset data range to that of unsigned short    \n",
       "BSCALE  =                  1.0 / default scaling factor                         \n",
       "BUNIT   = 'ADU     '           / Unit of original pixel value                   \n",
       "BLANK   =               -32768 / Value used for NULL pixels                     "
      ]
     },
     "execution_count": 13,
     "metadata": {},
     "output_type": "execute_result"
    }
   ],
   "source": [
    "thdr[:10]"
   ]
  },
  {
   "cell_type": "markdown",
   "metadata": {},
   "source": [
    "### データの加工と書き出し   \n",
    "\n",
    "このドームフラット1枚を使って、フラットを作成しましょう。 バイアス値がY方向に一様とする簡易版で行います。  \n",
    "ここでは、IRAFを使わずnumpyを使って行います。"
   ]
  },
  {
   "cell_type": "code",
   "execution_count": 14,
   "metadata": {
    "collapsed": true
   },
   "outputs": [],
   "source": [
    "omed = np.median(data[:, 2049:])  #  オーバースキャン部分のメジアン\n",
    "imed = np.median(data[:, :2048])  # 光が当たる部分のメジアン\n",
    "data = ( data - omed ) / (imed - omed)  #  ゲタを引き、規格化"
   ]
  },
  {
   "cell_type": "markdown",
   "metadata": {},
   "source": [
    "整数データを割り算した結果、浮動小数点数になります。  デフォルトでは64ビットになります。"
   ]
  },
  {
   "cell_type": "code",
   "execution_count": 15,
   "metadata": {},
   "outputs": [
    {
     "data": {
      "text/plain": [
       "dtype('float64')"
      ]
     },
     "execution_count": 15,
     "metadata": {},
     "output_type": "execute_result"
    }
   ],
   "source": [
    "data.dtype"
   ]
  },
  {
   "cell_type": "markdown",
   "metadata": {},
   "source": [
    "無駄にファイルサイズが大きくなるので、32ビットに変更します。  "
   ]
  },
  {
   "cell_type": "code",
   "execution_count": 16,
   "metadata": {
    "collapsed": true
   },
   "outputs": [],
   "source": [
    "data = data.astype(np.float32) "
   ]
  },
  {
   "cell_type": "markdown",
   "metadata": {},
   "source": [
    "ヘッダのBITPIXは自動的に変更されます。\n",
    "\n",
    "ヘッダのOBJECTの文字列を変更してみます。 "
   ]
  },
  {
   "cell_type": "code",
   "execution_count": 17,
   "metadata": {
    "collapsed": true
   },
   "outputs": [],
   "source": [
    "header['OBJECT'] = 'B_FLAT'"
   ]
  },
  {
   "cell_type": "markdown",
   "metadata": {},
   "source": [
    "ヘッダキーワードのBLANKはデータが整数のときのみ有効です。  \n",
    "それ以外のときにこの項目があると、アプリケーションによってはWarningがでます。  \n",
    "ここでは削除しておきましょう。  "
   ]
  },
  {
   "cell_type": "code",
   "execution_count": 18,
   "metadata": {
    "collapsed": true
   },
   "outputs": [],
   "source": [
    "del header['BLANK']"
   ]
  },
  {
   "cell_type": "markdown",
   "metadata": {},
   "source": [
    "このデータとヘッダを新しいFITSファイルに書き出します。**fits.writeto()**を使います。"
   ]
  },
  {
   "cell_type": "code",
   "execution_count": 19,
   "metadata": {
    "collapsed": true
   },
   "outputs": [],
   "source": [
    "fits.writeto('bflatn5pa.fits', data, header)   #   p for python "
   ]
  },
  {
   "cell_type": "markdown",
   "metadata": {},
   "source": [
    "フラットなんて中間ファイルなので盛りだくさんなヘッダは不要ですよ、という時には、fits.writeto()の引数のheaderを省略すると、最低限必要なヘッダを勝手に作ってくれます。"
   ]
  },
  {
   "cell_type": "code",
   "execution_count": 20,
   "metadata": {
    "collapsed": true
   },
   "outputs": [],
   "source": [
    "fits.writeto('bflatn5pa_simple.fits', data)"
   ]
  },
  {
   "cell_type": "markdown",
   "metadata": {},
   "source": [
    "元のFITSファイルに上書き更新する場合には**fits.update( )**を使います。"
   ]
  },
  {
   "cell_type": "code",
   "execution_count": 21,
   "metadata": {
    "collapsed": true
   },
   "outputs": [],
   "source": [
    "data = fits.getdata('bflatn5pa.fits') \n",
    "data[:, 2049:] = -999999.  # オーバースキャン部の値を負の大きな値にしておく \n",
    "fits.update('bflatn5pa.fits', data, header)"
   ]
  },
  {
   "cell_type": "markdown",
   "metadata": {},
   "source": [
    "fits.getdata( ) や fits.getheader( )、fits.writeto( )などは簡単で便利 (これらはastropy.io.fitsの中で'convinience functions'と呼ばれている) なのですが、効率の悪いことをしています。その都度にファイルのオープンとクローズをしています。  \n",
    "\n",
    "その理由から、一般にプログラムコードの中でFITSファイルの読み書きをする場合には、** fits.open() **でファイルを開き、**.headerメソッド**と**.dataメソッド**を使ってヘッダーとデータを読み取ります。ここでは、fits.open()の講習は省略します。興味のある人はadc2017pythonの1回目のほうの資料を参照してください。\n",
    "\n"
   ]
  },
  {
   "cell_type": "markdown",
   "metadata": {},
   "source": [
    "### 複数枚のドームフラットからフラットを作成 \n",
    "\n",
    "IRAFを使わずに、combineします。 numpy.median(), numpy.append()を使います。  "
   ]
  },
  {
   "cell_type": "code",
   "execution_count": 22,
   "metadata": {
    "collapsed": true
   },
   "outputs": [],
   "source": [
    "import glob\n",
    "\n",
    "stack = np.empty((0, 4100, 2080))  #  空の配列を作成\n",
    "\n",
    "for img in glob.glob('./data1/SUPA003175[0-6]5.fits'):\n",
    "\n",
    "    imdata = fits.getdata(img)\n",
    "    omed = np.median(imdata[:, 2049:])  \n",
    "    imed = np.median(imdata[:, :2048]) \n",
    "    imdata = ( imdata - omed ) / (imed - omed)  \n",
    "            \n",
    "    stack = np.append(stack, imdata[np.newaxis, :], axis=0)\n",
    "        \n",
    "immed = np.median(stack, axis=0)    \n",
    "immed = immed.astype(np.float32)\n",
    "\n",
    "fits.writeto('bflatn5p.fits', immed)"
   ]
  },
  {
   "cell_type": "markdown",
   "metadata": {},
   "source": [
    "#### ターゲットの生データのバイアス引きとフラット割り  \n",
    "target1の5番フレームの生データを、IRAFを使わずにastropy.io.fitsとnumpyで処理してみます。"
   ]
  },
  {
   "cell_type": "code",
   "execution_count": 23,
   "metadata": {
    "collapsed": true
   },
   "outputs": [],
   "source": [
    "imdata = fits.getdata('./data1/SUPA00317705.fits') \n",
    "flat = fits.getdata('bflatn5p.fits') \n",
    "flat[np.where(flat == 0.0)] = -9999   #   0での割り算を回避\n",
    "omed = np.median(imdata[:, 2049:])  \n",
    "imdata = ( imdata - omed ) / flat \n",
    "fits.writeto('btarget1n5p.fits', imdata)"
   ]
  },
  {
   "cell_type": "markdown",
   "metadata": {},
   "source": [
    "### トリミング  \n",
    "\n",
    "オーバースキャン領域はバイアス値の引き算が終わったあとは不要ですね。  \n",
    "切り取ってやりましょう。  "
   ]
  },
  {
   "cell_type": "code",
   "execution_count": 24,
   "metadata": {
    "collapsed": true
   },
   "outputs": [],
   "source": [
    "imdata = fits.getdata('bflatn5p.fits')\n",
    "fits.writeto('bflatn5ptrim.fits', imdata[:, :2048])"
   ]
  },
  {
   "cell_type": "markdown",
   "metadata": {},
   "source": [
    "### 人工的な画像  \n",
    "ピクセル値が全部ゼロの10 x 10のFITSファイルを作り、いくつかのピクセルにだけ正の値を与えてやります。"
   ]
  },
  {
   "cell_type": "code",
   "execution_count": 25,
   "metadata": {
    "collapsed": true
   },
   "outputs": [],
   "source": [
    "imdata = np.zeros((10, 10), dtype='float32')  # 全て0の10x10のndarrayを作成\n",
    "imdata[0, 1] = 100. #  (x,y)=(1,0)に100を代入。xとyが反転していることに注意\n",
    "imdata[4, 6] = 50. \n",
    "\n",
    "fits.writeto('my10x10.fits', imdata)"
   ]
  },
  {
   "cell_type": "markdown",
   "metadata": {},
   "source": [
    "出来上がったFITSファイルをDS9で見てみましょう。そして、xとyが反転していることを確かめてください。"
   ]
  },
  {
   "cell_type": "markdown",
   "metadata": {
    "collapsed": true
   },
   "source": [
    "### 演習4  \n",
    "\n",
    "astropy.io.fitsとnumpyを使って以下の処理をしてください。  \n",
    "\n",
    "(1) './data2/SUPA003175[0-6]2.fits'から2番フレーム用のフラットを作成。  \n",
    "(2) './data2/SUPA00317882.fits' について、バイアス引き+フラット割りの処理  \n"
   ]
  },
  {
   "cell_type": "markdown",
   "metadata": {},
   "source": [
    "### 補足 バイアス値をY方向も考慮に入れる (numpy編)\n",
    "\n",
    "numpyを使うと、IRAFでやるよりもすっきり書けます。  \n",
    "まずはフラットを作成します。"
   ]
  },
  {
   "cell_type": "code",
   "execution_count": 27,
   "metadata": {
    "collapsed": true
   },
   "outputs": [],
   "source": [
    "imdata = fits.getdata('./data1/SUPA00317505.fits')\n",
    "\n",
    "bias = np.median(imdata[:, 2049:], axis=1) # X軸に沿ってmedianを計算。biasはサイズ4100の1次元配列 \n",
    "bias = bias.reshape(4100,1) # ブロードキャスティングできるように整形\n",
    "\n",
    "imdata = imdata - bias   #  ブロードキャスティングで引き算  \n",
    "\n",
    "med = np.median(imdata[:, :2045])\n",
    "\n",
    "imdata = imdata / med \n",
    "imdata = imdata.astype(np.float32)\n",
    "\n",
    "fits.writeto('bflatn5pby.fits', imdata) # ヘッダは生データのものを継承しない"
   ]
  },
  {
   "cell_type": "markdown",
   "metadata": {},
   "source": [
    "次に、生データもバイアス値のY方向依存を考慮して引きます。"
   ]
  },
  {
   "cell_type": "code",
   "execution_count": 31,
   "metadata": {},
   "outputs": [],
   "source": [
    "flat = fits.getdata('bflatn5pby.fits')\n",
    "flat[np.where(flat==0)] = -9999 \n",
    "tdata = fits.getdata('./data1/SUPA00317705.fits')\n",
    "bias = np.median(tdata[:, 2049:], axis=1) \n",
    "bias = bias.reshape(4100,1) \n",
    "\n",
    "tdata = tdata - bias\n",
    "tdata = tdata / flat \n",
    "\n",
    "fits.writeto('btarget1n5pby.fits', tdata) "
   ]
  }
 ],
 "metadata": {
  "kernelspec": {
   "display_name": "Python 3",
   "language": "python",
   "name": "python3"
  },
  "language_info": {
   "codemirror_mode": {
    "name": "ipython",
    "version": 3
   },
   "file_extension": ".py",
   "mimetype": "text/x-python",
   "name": "python",
   "nbconvert_exporter": "python",
   "pygments_lexer": "ipython3",
   "version": "3.5.3"
  }
 },
 "nbformat": 4,
 "nbformat_minor": 1
}
