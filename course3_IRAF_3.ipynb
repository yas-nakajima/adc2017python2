{
 "cells": [
  {
   "cell_type": "markdown",
   "metadata": {},
   "source": [
    "## 講習3 --- 星の測光  \n",
    "\n",
    "点光源の明るさを測定してみます。ここでは、IRAFのAPPHOTを用いて、アパーチャ測光を行います。  \n"
   ]
  },
  {
   "cell_type": "markdown",
   "metadata": {},
   "source": [
    "#### 準備のトリミング  \n",
    "\n",
    "講習2で作成した、btarget1n5.fitsをトリミングして、オーバースキャン領域など不要な部分を除いておきます。\n",
    "(左端に明るい部分が見られます。これは何らかのバイアスがのっているものと思われるのでここ(25列目まで)も除きます。)"
   ]
  },
  {
   "cell_type": "code",
   "execution_count": 1,
   "metadata": {
    "collapsed": true
   },
   "outputs": [],
   "source": [
    "from pyraf import iraf"
   ]
  },
  {
   "cell_type": "code",
   "execution_count": 2,
   "metadata": {},
   "outputs": [
    {
     "name": "stdout",
     "output_type": "stream",
     "text": [
      "btarget1n5.fits[25:2048,*] -> btarget1n5trim.fits\n"
     ]
    }
   ],
   "source": [
    "iraf.imcopy('btarget1n5.fits[25:2048, *]', 'btarget1n5trim.fits')"
   ]
  },
  {
   "cell_type": "markdown",
   "metadata": {},
   "source": [
    "### パラメータ設定  \n",
    "\n",
    "iraf.apphot関連のタスクのためのパラメータを適切に設定する必要があります。 \n",
    "\n",
    "#### 準備 \n",
    "- 星のサイズ(fwhm)を求めておく\n",
    "- 背景のレベルとばらつきをもとめておく\n",
    "\n",
    "ds9を立ち上げておき、iraf.displayとiraf.imexamで星のfwhmを調べておきます。\n",
    "\n",
    "このあとの作業では、'btarget1n5trim.fits'に対して繰り返し処理をおこなうので、"
   ]
  },
  {
   "cell_type": "code",
   "execution_count": 3,
   "metadata": {
    "collapsed": true
   },
   "outputs": [],
   "source": [
    "targetfits = 'btarget1n5trim.fits'"
   ]
  },
  {
   "cell_type": "markdown",
   "metadata": {},
   "source": [
    "とファイル名を変数に代入しておきます。"
   ]
  },
  {
   "cell_type": "code",
   "execution_count": 4,
   "metadata": {},
   "outputs": [
    {
     "name": "stdout",
     "output_type": "stream",
     "text": [
      "z1=28.35372 z2=115.3357\n"
     ]
    }
   ],
   "source": [
    "iraf.display(targetfits)"
   ]
  },
  {
   "cell_type": "code",
   "execution_count": 5,
   "metadata": {},
   "outputs": [
    {
     "name": "stdout",
     "output_type": "stream",
     "text": [
      "#   COL    LINE    COORDINATES\n",
      "#     R    MAG    FLUX     SKY    PEAK    E   PA BETA ENCLOSED   MOFFAT DIRECT\n",
      "1394.04  921.73 1394.04 921.73\n",
      "  20.88  13.07  58984.   69.29   882.7 0.03   62 4.67     6.90     7.07   6.96\n",
      "1384.47  706.26 1384.47 706.26\n",
      "  21.55  12.25 125778.   69.22   1827. 0.03    9 15.8     6.97     7.37   7.18\n",
      " 411.91 1136.10 411.91 1136.10\n",
      "  21.58  12.33 116908.   69.13   1629. 0.06   23 4.76     7.20     7.66   7.19\n"
     ]
    }
   ],
   "source": [
    "iraf.imexam()"
   ]
  },
  {
   "cell_type": "markdown",
   "metadata": {},
   "source": [
    "fwhm=7.0 pixel としておきます。  \n",
    "\n",
    "次に背景のmedianとノイズの評価をします。"
   ]
  },
  {
   "cell_type": "code",
   "execution_count": 6,
   "metadata": {
    "collapsed": true
   },
   "outputs": [],
   "source": [
    "iraf.unlearn('imstat')\n",
    "iraf.imstat.fields = 'midpt, mean, stddev'\n",
    "iraf.imstat.nclip = 3"
   ]
  },
  {
   "cell_type": "code",
   "execution_count": 7,
   "metadata": {},
   "outputs": [
    {
     "name": "stdout",
     "output_type": "stream",
     "text": [
      "#     MIDPT      MEAN    STDDEV\n",
      "      68.84      69.1     7.368\n"
     ]
    }
   ],
   "source": [
    "iraf.imstat(targetfits)"
   ]
  },
  {
   "cell_type": "markdown",
   "metadata": {},
   "source": [
    "メジアンは69でノイズは7.4とします。"
   ]
  },
  {
   "cell_type": "markdown",
   "metadata": {},
   "source": [
    "#### パラメータの設定  \n",
    "\n",
    "apphotモジュールをimportします。"
   ]
  },
  {
   "cell_type": "code",
   "execution_count": 8,
   "metadata": {
    "collapsed": true
   },
   "outputs": [],
   "source": [
    "from iraf import apphot"
   ]
  },
  {
   "cell_type": "markdown",
   "metadata": {},
   "source": [
    "login.cl の記載内容によっては、\n",
    "``` python \n",
    "from iraf import noao\n",
    "from iraf import digiphot\n",
    "``` \n",
    "も必要かもしれません。 \n",
    "\n",
    "次に、測光に必要なパラメータを設定します。  \n",
    "パラメータ設定の参考にした文献は、\"A Reference Guide to the IRAF/DAOPHOT Package\"です。  \n",
    "http://iraf.noao.edu/docs/photom.html  \n",
    "からダウンロード(daorefman.pdf)できます。  "
   ]
  },
  {
   "cell_type": "code",
   "execution_count": 9,
   "metadata": {
    "collapsed": true
   },
   "outputs": [],
   "source": [
    "med = 69.  #  背景レベルとばらつき、fwhm\n",
    "std = 7.4\n",
    "fwhm = 7.0\n",
    "\n",
    "iraf.apphot.unlearn()  #  デフォルト値に戻しておく\n",
    "\n",
    "iraf.apphot.datapars.datamax = 50000  #  サチった星を数えない\n",
    "iraf.apphot.datapars.readnoise = 10 #  検出器に特有な値\n",
    "iraf.apphot.datapars.epadu = 2.5 #  検出器に特有な値\n",
    "iraf.apphot.datapars.itime = 10  # 積分時間 \n",
    "\n",
    "iraf.apphot.findpars.threshold = 7  #  7シグマ以上のものを検出せよ \n",
    "iraf.apphot.findpars.sharphi = 0.8  # 星っぽくないものを除くため\n",
    "\n",
    "#  fwhmで決まるパラメータ\n",
    "iraf.apphot.datapars.fwhmpsf = fwhm   \n",
    "iraf.apphot.centerpars.cbox = max(5.0, fwhm)\n",
    "iraf.apphot.fitskypars.annulus = 3 * fwhm\n",
    "iraf.apphot.photpars.apertures = 2 * fwhm\n",
    "\n",
    "iraf.apphot.fitskypars.dannulus = 10.\n",
    "\n",
    "#  背景のレベルとばらつきで決まるパラメータ\n",
    "iraf.apphot.datapars.sigma = std  \n",
    "iraf.apphot.datapars.datamin = med - 5 * std \n",
    "\n",
    "iraf.apphot.photpars.zmag = 27  # 等級のゼロ点\n",
    "\n",
    "# IRAFと対話的(確認など)に行わないための設定\n",
    "iraf.apphot.daofind.interac = 'no'\n",
    "iraf.apphot.daofind.verify = 'no'\n",
    "iraf.apphot.phot.interactive = 'no'  \n",
    "iraf.apphot.phot.verify = 'no'\n",
    "iraf.apphot.phot.verbose = 'no'"
   ]
  },
  {
   "cell_type": "markdown",
   "metadata": {},
   "source": [
    "まずは、iraf.daofind()で星を検出させます。"
   ]
  },
  {
   "cell_type": "code",
   "execution_count": 10,
   "metadata": {
    "collapsed": true
   },
   "outputs": [],
   "source": [
    "iraf.daofind(targetfits, output='out1.coo')"
   ]
  },
  {
   "cell_type": "markdown",
   "metadata": {},
   "source": [
    "どれが星として検出されたかFITS上にプロットしてみましょう。  \n",
    "(線が細いので半径を3つ指定することで3つのマルを描く。)"
   ]
  },
  {
   "cell_type": "code",
   "execution_count": 11,
   "metadata": {
    "collapsed": true
   },
   "outputs": [],
   "source": [
    "iraf.tvmark('1', 'out1.coo', mark='circle', radii='15,16,17', color=207)"
   ]
  },
  {
   "cell_type": "code",
   "execution_count": 13,
   "metadata": {
    "collapsed": true
   },
   "outputs": [],
   "source": [
    "#iraf.help('tvmark')"
   ]
  },
  {
   "cell_type": "markdown",
   "metadata": {},
   "source": [
    "星じゃないものも検出されちゃってますが、ここでは気にせず、daofindの出力の'out.coo'を\n",
    "**iraf.phot()**に読み込ませて測光します。"
   ]
  },
  {
   "cell_type": "code",
   "execution_count": 14,
   "metadata": {
    "collapsed": true
   },
   "outputs": [],
   "source": [
    "iraf.phot(targetfits, coords='out1.coo', output='out1.mag')"
   ]
  },
  {
   "cell_type": "markdown",
   "metadata": {},
   "source": [
    "最初の引数は、測光する対象のFITSファイル名です。coords=で読み込ませる座標ファイルの名前、output=で結果を書き出すファイル名を指定します。  \n",
    "\n",
    "結果のファイルは、iraf.phot()固有の形式で書き出されています。"
   ]
  },
  {
   "cell_type": "code",
   "execution_count": 15,
   "metadata": {
    "collapsed": true,
    "scrolled": true
   },
   "outputs": [],
   "source": [
    "#cat 'out1.mag'   # githubでは長くなるのでコメントアウトしておきます"
   ]
  },
  {
   "cell_type": "markdown",
   "metadata": {},
   "source": [
    "通常、必要なのは、xcenter, ycenter, mag, merr です。**iraf.txdump()**を使って、それらだけを抜き出します。"
   ]
  },
  {
   "cell_type": "code",
   "execution_count": 16,
   "metadata": {
    "scrolled": true
   },
   "outputs": [
    {
     "name": "stdout",
     "output_type": "stream",
     "text": [
      "1384.487  706.380  16.778  0.003\n",
      "1394.061  921.854  17.593  0.005\n",
      "724.860  986.570  15.692  0.001\n",
      "412.063  1136.186  16.854  0.003\n",
      "1256.533  1254.923  19.872  0.032\n",
      "1614.107  1296.000  24.509  2.293\n",
      "1.975  1563.123  INDEF  INDEF\n",
      "325.259  1710.853  20.233  0.047\n",
      "295.760  1891.867  INDEF  INDEF\n",
      "1214.740  1913.393  17.615  0.005\n",
      "164.208  2090.797  20.722  0.073\n",
      "1519.869  2131.413  19.975  0.035\n",
      "755.494  2207.461  20.578  0.061\n",
      "1609.915  2403.143  17.285  0.004\n",
      "888.608  2443.525  21.548  0.153\n",
      "400.753  2577.342  INDEF  INDEF\n",
      "2008.147  2638.538  16.281  0.002\n",
      "782.873  2801.123  18.178  0.008\n",
      "1781.279  2834.660  18.671  0.012\n",
      "261.980  2855.986  13.514  0.000\n",
      "1841.312  2952.747  20.019  0.040\n",
      "687.466  3180.978  13.860  0.001\n",
      "752.111  3381.985  15.486  0.001\n",
      "1741.726  4037.847  21.283  0.124\n",
      "1333.792  4043.156  13.562  0.000\n",
      "1791.647  4044.367  18.121  0.008\n",
      "650.189  4085.125  19.898  0.038\n"
     ]
    }
   ],
   "source": [
    "iraf.txdump('out1.mag', fields='xc,yc,mag,merr')"
   ]
  },
  {
   "cell_type": "markdown",
   "metadata": {},
   "source": [
    "INDEFなんてのもあります。これは、たまたまバッドピクセルが測光領域に含まれていた、視野の端である、あるいは、サチった星などです。\n",
    "測光誤差を(例えば)0.2等以下のものだけに絞ることで、INDEFのものも削除できます。 誤検出のものもここで削除できます。"
   ]
  },
  {
   "cell_type": "code",
   "execution_count": 17,
   "metadata": {
    "scrolled": true
   },
   "outputs": [
    {
     "name": "stdout",
     "output_type": "stream",
     "text": [
      "1384.487  706.380  16.778  0.003\n",
      "1394.061  921.854  17.593  0.005\n",
      "724.860  986.570  15.692  0.001\n",
      "412.063  1136.186  16.854  0.003\n",
      "1256.533  1254.923  19.872  0.032\n",
      "325.259  1710.853  20.233  0.047\n",
      "1214.740  1913.393  17.615  0.005\n",
      "164.208  2090.797  20.722  0.073\n",
      "1519.869  2131.413  19.975  0.035\n",
      "755.494  2207.461  20.578  0.061\n",
      "1609.915  2403.143  17.285  0.004\n",
      "888.608  2443.525  21.548  0.153\n",
      "2008.147  2638.538  16.281  0.002\n",
      "782.873  2801.123  18.178  0.008\n",
      "1781.279  2834.660  18.671  0.012\n",
      "261.980  2855.986  13.514  0.000\n",
      "1841.312  2952.747  20.019  0.040\n",
      "687.466  3180.978  13.860  0.001\n",
      "752.111  3381.985  15.486  0.001\n",
      "1741.726  4037.847  21.283  0.124\n",
      "1333.792  4043.156  13.562  0.000\n",
      "1791.647  4044.367  18.121  0.008\n",
      "650.189  4085.125  19.898  0.038\n"
     ]
    }
   ],
   "source": [
    "iraf.txdump('out1.mag', fields='xc,yc,mag,merr', expr='merr<0.2')"
   ]
  },
  {
   "cell_type": "markdown",
   "metadata": {},
   "source": [
    "Stdout=''でファイル名を指定すると、そのファイルに書き出してくれます。"
   ]
  },
  {
   "cell_type": "code",
   "execution_count": 18,
   "metadata": {
    "collapsed": true
   },
   "outputs": [],
   "source": [
    "iraf.txdump('out1.mag', fields='xc,yc,mag,merr', expr='merr<0.2', Stdout='result1.txt')"
   ]
  },
  {
   "cell_type": "markdown",
   "metadata": {},
   "source": [
    "これで、星の機械等級がもとまりました。  "
   ]
  },
  {
   "cell_type": "markdown",
   "metadata": {},
   "source": [
    "### 測光値の較正  \n",
    "\n",
    "ここで求まったものは、機械等級です。等級のゼロ点を適当に設定したものです。 \n",
    "どうやって本当の等級に直せば良いでしょうか。  \n",
    "\n",
    "実は、この視野には標準星が写っています。Landolt(1992)のカタログの標準星のうち以下が写っています。\n",
    "\n",
    "<img src='./img/SA104.png', width='200'>  \n",
    "\n",
    "\n",
    "| 標準星| カタログB等級(エラー) | 上記結果(機械等級)  | 3列 - 2列 | カタログB-V |  測定回数(カタログ) |   \n",
    "| :- | :- | :- | :- | :- | :- |\n",
    "|SA104-330 | 15.894 (0.029) | 17.593  (0.005) | 1.699 | 0.594 | 15 |  \n",
    "|SA104-334 | 13.998 (0.006) | 15.692 (0.001) | 1.694 | 0.518 | 24 | \n",
    "|SA104-335 | 12.292 (0.010) | 13.860  (0.001) | 1.568 | 0.622 | 4   | \n",
    "|SA104-336 | 15.230 (0.010) | 16.854  (0.003) | 1.624 | 0.830 | 14 |   \n",
    "|SA104-L2   | 16.700 (0.033) | 18.178  (0.008) | 1.478 | 0.650 | 4  |  \n",
    "\n",
    "「3列 - 2列」の等級較正値にはばらつきがあります。 Landoltカタログで測定回数が10回以下のものは、ここでは、信頼性が低いとして採用しないことにします。 (それでもなお、SA104-336はSA104-330およびSA104-334と比べて0.07等も較正値が異なります。これはSA104-336のB-Vの値が他の2つと比べて大きいので、カラー変換の影響を考慮にいれなければいけないのかもしれません。)  \n",
    "\n",
    "結果として、較正値の平均は1.672等、標準偏差は0.03等となりました。 \n",
    "従って、result.txtの等級から1.672を引き、等級エラーには0.03等の誤差伝搬を加えておけばよいことになります。\n",
    "\n",
    "\n"
   ]
  },
  {
   "cell_type": "code",
   "execution_count": 19,
   "metadata": {
    "collapsed": true
   },
   "outputs": [],
   "source": [
    "import math \n",
    "\n",
    "with open('result1c.txt', 'w') as fout: # result_c.txtを書き出し先ファイルとする\n",
    "    with open('result1.txt') as fin:  #  result.txtを開く \n",
    "        for line in fin:  #  1行づつ読み込み \n",
    "            v = line.rstrip().split()  #  rstrip()で改行コードを削除し、split()で空白文字で行を分割\n",
    "            mag = float(v[2]) - 1.672 #  等級は3列目なので、それをfloatに変換して1.672を引く\n",
    "            merr = math.sqrt(float(v[3])**2 + 0.03**2) \n",
    "            print (v[0], v[1], mag, merr, file=fout) #  書き出し"
   ]
  },
  {
   "cell_type": "markdown",
   "metadata": {},
   "source": [
    "次の講習でとりあげる**numpy**を使うと、上のテキストファイル(result.txt)の読み出し、計算、書き出しのプログラムが非常に簡単になります。"
   ]
  },
  {
   "cell_type": "markdown",
   "metadata": {},
   "source": [
    "### 演習3  \n",
    "\n",
    "演習2-1で処理をした'btarget2n5.fits'で測光をしてみましょう。  \n",
    "このときも、オーバースキャン領域などの不要な部分を削除して行いましょう。  \n",
    "\n",
    "'btarget2n5.fits'の視野の中には測光標準星は写っていません。ただし、上のtarget1と近い時間に観測したデータですので、\n",
    "等級ゼロ点は同じだと仮定し、上と同じ較正値(1.672)を使ってください。"
   ]
  }
 ],
 "metadata": {
  "kernelspec": {
   "display_name": "Python 3",
   "language": "python",
   "name": "python3"
  },
  "language_info": {
   "codemirror_mode": {
    "name": "ipython",
    "version": 3
   },
   "file_extension": ".py",
   "mimetype": "text/x-python",
   "name": "python",
   "nbconvert_exporter": "python",
   "pygments_lexer": "ipython3",
   "version": "3.5.3"
  }
 },
 "nbformat": 4,
 "nbformat_minor": 2
}
