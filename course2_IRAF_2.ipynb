{
 "cells": [
  {
   "cell_type": "markdown",
   "metadata": {},
   "source": [
    "## 講習2 --- IRAFで1次処理\n",
    "\n",
    "IRAFのタスクを使って、**１次処理**(生データからバイアスを引き、それをフラットで割る) を行ってみましょう。  \n",
    "ここでは、IRAFの基本タスク、**imarith**, **imcombine**を使います。  \n",
    "\n",
    "### ドームフラットでターゲットのフレームをフラット処理する (簡易版)\n",
    "\n",
    "講習1で扱った'./data1/SUPA00317705.fits' はtarget1を観測した生データです。\n",
    "これを、バイアス値を引いたあとに、フラットで割ることで、CCDの感度ムラと光学系の透過率のムラを補正します。\n",
    "視野全体で一様な強度で光っている(と考えている)ものを観測してフラットを作成します。\n",
    "(最近の)CCDではダークを生データから引くことはしません。(地上観測の近赤外アレイでは、ダークを引いてフラットで割り、スカイバイアスを引くという処理が必要になります。)\n",
    "\n",
    "まず、このフラットを作成する必要があります。\n",
    "ドームフラットの生データからバイアス値を引いたのちに**規格化**(メジアン値で割る)してフラットを作成します。\n",
    "もし、CCDの感度ムラがなく、光学系の透過率も完全に一様であれば、フラットは全てのピクセルで1.0の値をもちます。\n",
    "通常は複数のフラットの平均から、より尤もらしいフラットを作成します。  \n",
    "\n",
    "下ではまず、ドームフラット1枚だけからフラット作成します。**imstat**と**imarith**を使用します。  \n",
    "次に、ドームフラット7枚からフラット作成します。**imcombine**を使用します。  \n",
    "\n",
    "** ドームフラット1枚だけを使う **   \n",
    "\n",
    "'./data1/SUPA00317505.fits' はドームフラットのBバンドの生データです。\n",
    "CCDのフレームには、観測した光に加えて、X方向に一様なバイアス値が加算されています。\n",
    "この**簡易版**の処理では、そのバイアス値がY方向にも一様として処理をします。(のちにY方向の依存も考慮に入れた手法を紹介します。)\n",
    "そのバイアス値をオーバースキャン領域から推定します。Suprime Camの5番フレームでは2049列目あたりから右側がオーバースキャン領域です。"
   ]
  },
  {
   "cell_type": "code",
   "execution_count": 2,
   "metadata": {},
   "outputs": [],
   "source": [
    "from pyraf import iraf"
   ]
  },
  {
   "cell_type": "code",
   "execution_count": 3,
   "metadata": {
    "collapsed": true
   },
   "outputs": [],
   "source": [
    "iraf.unlearn('imstat')\n",
    "iraf.imstat.fields = 'midpt, mean, stddev'\n",
    "iraf.imstat.nclip = 3"
   ]
  },
  {
   "cell_type": "code",
   "execution_count": 4,
   "metadata": {},
   "outputs": [
    {
     "name": "stdout",
     "output_type": "stream",
     "text": [
      "#     MIDPT      MEAN    STDDEV\n",
      "      9984.     9984.     5.046\n"
     ]
    }
   ],
   "source": [
    "iraf.imstat('./data1/SUPA00317505.fits[2049:2080, *]')"
   ]
  },
  {
   "cell_type": "markdown",
   "metadata": {},
   "source": [
    "ドームフラットの光があたっている部分のメジアンを求めておきます。"
   ]
  },
  {
   "cell_type": "code",
   "execution_count": 5,
   "metadata": {},
   "outputs": [
    {
     "name": "stdout",
     "output_type": "stream",
     "text": [
      "#     MIDPT      MEAN    STDDEV\n",
      "     18933.    18928.     210.1\n"
     ]
    }
   ],
   "source": [
    "iraf.imstat('./data1/SUPA00317505.fits[1:2048, *]')"
   ]
  },
  {
   "cell_type": "markdown",
   "metadata": {},
   "source": [
    "**imarith**の出番です。バイアス値を引いてから、メジアン値で規格化してフラットを作成しましょう。"
   ]
  },
  {
   "cell_type": "code",
   "execution_count": 6,
   "metadata": {
    "collapsed": true
   },
   "outputs": [],
   "source": [
    "iraf.imarith('./data1/SUPA00317505.fits', '-' , 9984, 'bflatn5a.fits')  \n",
    "iraf.imarith('bflatn5a.fits', '/' , 8949, 'bflatn5a.fits')  #  18933 - 9984 = 8949"
   ]
  },
  {
   "cell_type": "markdown",
   "metadata": {},
   "source": [
    "このフラットでターゲットの生データを割ります。このときも、まず、生データからバイアス値を引きます。"
   ]
  },
  {
   "cell_type": "code",
   "execution_count": 7,
   "metadata": {},
   "outputs": [
    {
     "name": "stdout",
     "output_type": "stream",
     "text": [
      "#     MIDPT      MEAN    STDDEV\n",
      "      9989.     9989.     4.841\n"
     ]
    }
   ],
   "source": [
    "iraf.imstat('./data1/SUPA00317705.fits[2049:2080, *]')"
   ]
  },
  {
   "cell_type": "code",
   "execution_count": 8,
   "metadata": {
    "collapsed": true
   },
   "outputs": [],
   "source": [
    "iraf.imarith('./data1/SUPA00317705.fits', '-', 9989, 'btarget1n5a.fits')\n",
    "iraf.imarith('btarget1n5a.fits', '/', 'bflatn5a.fits', 'btarget1n5a.fits')"
   ]
  },
  {
   "cell_type": "markdown",
   "metadata": {},
   "source": [
    "これでできました。 btarget1n5a.fitsをds9で表示して確かめてみましょう。  \n",
    "\n",
    "\n",
    "**ドームフラット7枚を使う**   \n",
    "**iraf.imcombine**の出番です。  \n",
    "'./data1/SUPA003175[0-6]5.fits' はBバンドのドームフラットです。\n"
   ]
  },
  {
   "cell_type": "code",
   "execution_count": 9,
   "metadata": {
    "collapsed": true
   },
   "outputs": [],
   "source": [
    "import glob # pythonの組み込みモジュール。ワイルドカードを使ったファイル処理など。"
   ]
  },
  {
   "cell_type": "code",
   "execution_count": 10,
   "metadata": {
    "collapsed": true
   },
   "outputs": [],
   "source": [
    "flist = glob.glob('./data1/SUPA003175[0-6]5.fits')"
   ]
  },
  {
   "cell_type": "code",
   "execution_count": 11,
   "metadata": {},
   "outputs": [
    {
     "name": "stdout",
     "output_type": "stream",
     "text": [
      "['./data1/SUPA00317505.fits', './data1/SUPA00317515.fits', './data1/SUPA00317525.fits', './data1/SUPA00317535.fits', './data1/SUPA00317545.fits', './data1/SUPA00317555.fits', './data1/SUPA00317565.fits']\n"
     ]
    }
   ],
   "source": [
    "print(flist)"
   ]
  },
  {
   "cell_type": "markdown",
   "metadata": {},
   "source": [
    "forループを使って、このリストからファイルを一つづつimstatに入力します。"
   ]
  },
  {
   "cell_type": "code",
   "execution_count": 12,
   "metadata": {},
   "outputs": [
    {
     "name": "stdout",
     "output_type": "stream",
     "text": [
      "#     MIDPT      MEAN    STDDEV\n",
      "      9984.     9984.     5.046\n",
      "#     MIDPT      MEAN    STDDEV\n",
      "      9983.     9983.     5.039\n",
      "#     MIDPT      MEAN    STDDEV\n",
      "      9983.     9983.     5.036\n",
      "#     MIDPT      MEAN    STDDEV\n",
      "      9983.     9983.     5.032\n",
      "#     MIDPT      MEAN    STDDEV\n",
      "      9983.     9983.     5.038\n",
      "#     MIDPT      MEAN    STDDEV\n",
      "      9983.     9983.     5.056\n",
      "#     MIDPT      MEAN    STDDEV\n",
      "      9983.     9983.     5.071\n"
     ]
    }
   ],
   "source": [
    "for img in flist:\n",
    "    iraf.imstat(img + '[2049:2080, *]')"
   ]
  },
  {
   "cell_type": "markdown",
   "metadata": {},
   "source": [
    "上では、glob.globで抽出したリストをいったん変数に代入しましたが、以下のように直接forループに入れても大丈夫です。"
   ]
  },
  {
   "cell_type": "code",
   "execution_count": 13,
   "metadata": {},
   "outputs": [
    {
     "name": "stdout",
     "output_type": "stream",
     "text": [
      "['9983.81'] ['18932.82']\n",
      "['9983.021'] ['18950.5']\n",
      "['9982.991'] ['18963.1']\n",
      "['9983.005'] ['19029.06']\n",
      "['9982.896'] ['18995.43']\n",
      "['9982.938'] ['18935.77']\n",
      "['9982.917'] ['18969.67']\n"
     ]
    }
   ],
   "source": [
    "iraf.imstat.fields = 'midpt'  #  どうせメジアンしか使わない\n",
    "\n",
    "for img in glob.glob('./data1/SUPA003175[0-6]5.fits'):\n",
    "    out1 = iraf.imstat(img + '[2049:2080, *]', format='no', Stdout=1)\n",
    "    out2 = iraf.imstat(img + '[1:2048, *]', format='no', Stdout=1)\n",
    "    print (out1, out2)"
   ]
  },
  {
   "cell_type": "markdown",
   "metadata": {},
   "source": [
    "out1, out2は、それぞれ、1つしか要素を持たないリストとして得られました。  \n",
    "下のように、リストの最初の要素を抽出することで値を得ることができます。ただし、文字列です。"
   ]
  },
  {
   "cell_type": "code",
   "execution_count": 14,
   "metadata": {},
   "outputs": [
    {
     "data": {
      "text/plain": [
       "'9982.917'"
      ]
     },
     "execution_count": 14,
     "metadata": {},
     "output_type": "execute_result"
    }
   ],
   "source": [
    "out1[0]"
   ]
  },
  {
   "cell_type": "markdown",
   "metadata": {},
   "source": [
    "**float()**関数で数値(浮動小数点数)に変換してやります。"
   ]
  },
  {
   "cell_type": "code",
   "execution_count": 15,
   "metadata": {},
   "outputs": [
    {
     "data": {
      "text/plain": [
       "9982.917"
      ]
     },
     "execution_count": 15,
     "metadata": {},
     "output_type": "execute_result"
    }
   ],
   "source": [
    "float(out1[0])"
   ]
  },
  {
   "cell_type": "markdown",
   "metadata": {
    "collapsed": true
   },
   "source": [
    "それでは、各ドームフラットからフラットを作成し、それらをメジアンでコンバインします。"
   ]
  },
  {
   "cell_type": "code",
   "execution_count": 16,
   "metadata": {},
   "outputs": [
    {
     "name": "stdout",
     "output_type": "stream",
     "text": [
      "tmp0.fits,tmp1.fits,tmp2.fits,tmp3.fits,tmp4.fits,tmp5.fits,tmp6.fits,\n",
      "\n",
      "Aug 21 13:22: IMCOMBINE\n",
      "  combine = median, scale = none, zero = none, weight = none\n",
      "  blank = 0.\n",
      "                Images \n",
      "              tmp0.fits\n",
      "              tmp1.fits\n",
      "              tmp2.fits\n",
      "              tmp3.fits\n",
      "              tmp4.fits\n",
      "              tmp5.fits\n",
      "              tmp6.fits\n",
      "\n",
      "  Output image = bflatn5.fits, ncombine = 7\n"
     ]
    }
   ],
   "source": [
    "iraf.imstat.fields = 'midpt'  \n",
    "\n",
    "num = 0\n",
    "comstr = ''\n",
    "for img in glob.glob('./data1/SUPA003175[0-6]5.fits'):\n",
    "    \n",
    "    out1 = iraf.imstat(img + '[2049:2080, *]', format='no', Stdout=1)  #  オーバースキャン領域\n",
    "    out2 = iraf.imstat(img + '[1:2048, *]', format='no', Stdout=1)  #  光のあたってる領域\n",
    "    med1 = float(out1[0])  #  文字列を数値に変換\n",
    "    med2 = float(out2[0])\n",
    "    \n",
    "    nflat =  'tmp' + str(num) + '.fits'   #  それぞれのフラットを作成\n",
    "    iraf.imarith(img, '-', med1, nflat)  #  バイアス値をひく\n",
    "    iraf.imarith(nflat, '/', med2 - med1, nflat) #  バイアスを考慮して規格化\n",
    "    \n",
    "    num += 1\n",
    "    comstr += nflat + ','  #  imcombineの引数として与えるための文字列\n",
    "\n",
    "print (comstr)  #  なぜ下でcomstr[:-1]と、末尾の一文字を削除するか理解するためにあえて表示 \n",
    "    \n",
    "iraf.imcombine(comstr[:-1], 'bflatn5.fits', combine='median')\n",
    "iraf.imdelete(comstr[:-1])  #  中間ファイルを削除。お掃除お掃除。"
   ]
  },
  {
   "cell_type": "markdown",
   "metadata": {},
   "source": [
    "これでドームフラットを7枚使ったフラットができました。  \n",
    "生データをこれで処理してやります。"
   ]
  },
  {
   "cell_type": "code",
   "execution_count": 17,
   "metadata": {
    "collapsed": true
   },
   "outputs": [],
   "source": [
    "iraf.imarith('./data1/SUPA00317705.fits', '-', 9989, 'btarget1n5.fits')\n",
    "iraf.imarith('btarget1n5.fits', '/', 'bflatn5.fits', 'btarget1n5.fits')"
   ]
  },
  {
   "cell_type": "markdown",
   "metadata": {},
   "source": [
    "### 演習2 \n",
    "\n",
    "**2-1.**  \n",
    "別ターゲットtarget2を観測した、'./data1/SUPA00317885.fits' について、バイアス引き+フラット割りの処理をしましょう。\n",
    "これは5番フレームです。フィルターも同じBバンドなので、フラット割りには、'bflatn5.fits'が使えます。  \n",
    "この結果のフレームを'btarget2n5.fits'と呼ぶことにします。(後の演習で利用します)  \n",
    "\n",
    "**2-2.**  \n",
    "'./data1/SUPA00317705.fits'と同じ観測の2番フレームの生データ'./data2/SUPA00317702.fits' について、\n",
    "バイアス引き+フラット割りの処理をしましょう。\n",
    "先ほどの5番フレームとは違い、これは2番フレームなので、2番フレームのためのフラットを作成する必要があります。  \n",
    "(1) './data2/SUPA00317502.fits' を規格化したものをフラットとして作成する。(1枚フラット)  \n",
    "(2) './data2/SUPA003175[0-6]2.fits' から平均のフラットを作成する。  \n",
    "(3) 上のどちらか(あるいは両方)のフラットを使って、バイアス引き後のフラット割りを行う。\n",
    "\n",
    "注意 : 2番フレームはオーバースキャン領域が5番とは異なる。"
   ]
  },
  {
   "cell_type": "markdown",
   "metadata": {},
   "source": [
    "### 補足 バイアス値のY方向依存も考慮に入れる\n",
    "\n",
    "今回使用するフラットでは0.1 x 数パーセントの違いしかありませんが、Y方向の依存も考慮に入れた方法を紹介しておきます。\n",
    "ドームフラットのデータを1枚だけ使うケースを例にします。\n",
    "irafのblkavgを使って、オーバースキャン領域の各lineの算術平均を求めます。(本当はメジアンがよいが。)　　"
   ]
  },
  {
   "cell_type": "code",
   "execution_count": 18,
   "metadata": {
    "collapsed": true
   },
   "outputs": [],
   "source": [
    "iraf.blkavg('./data1/SUPA00317505.fits[2049:2080, *]', 'bias1.fits', 32, 1)"
   ]
  },
  {
   "cell_type": "markdown",
   "metadata": {},
   "source": [
    "bias1.fitsはサイズが(1,4100)の1次元データです。これをX方向に2080倍のばします。"
   ]
  },
  {
   "cell_type": "code",
   "execution_count": 19,
   "metadata": {
    "collapsed": true
   },
   "outputs": [],
   "source": [
    "iraf.blkrep('bias1.fits', 'bias2.fits', 2080)"
   ]
  },
  {
   "cell_type": "markdown",
   "metadata": {},
   "source": [
    "このバイアスを生データから引いてやります。"
   ]
  },
  {
   "cell_type": "code",
   "execution_count": 20,
   "metadata": {
    "collapsed": true
   },
   "outputs": [],
   "source": [
    "iraf.imarith('./data1/SUPA00317505.fits', '-' , 'bias2.fits', 'bflatn5by.fits')"
   ]
  },
  {
   "cell_type": "code",
   "execution_count": 21,
   "metadata": {},
   "outputs": [
    {
     "name": "stdout",
     "output_type": "stream",
     "text": [
      "#     MIDPT\n",
      "      8957.\n"
     ]
    }
   ],
   "source": [
    "iraf.imstat('bflatn5by.fits[1:2048, *]', fields='midpt')"
   ]
  },
  {
   "cell_type": "code",
   "execution_count": 22,
   "metadata": {
    "collapsed": true
   },
   "outputs": [],
   "source": [
    "iraf.imarith('bflatn5by.fits', '/', 8957, 'bflatn5by.fits')"
   ]
  },
  {
   "cell_type": "markdown",
   "metadata": {},
   "source": [
    "バイアスのY方向依存も考慮に入れたフラットができました。  \n",
    "次にターゲットのフレームをフラットで割ります。  \n",
    "ここでもバイアス値のY方向依存を考慮にいれます。  "
   ]
  },
  {
   "cell_type": "code",
   "execution_count": 23,
   "metadata": {
    "collapsed": true
   },
   "outputs": [],
   "source": [
    "iraf.blkavg('./data1/SUPA00317705.fits[2049:2080, *]', 'bias1t.fits', 32, 1)\n",
    "iraf.blkrep('bias1t.fits', 'bias2t.fits', 2080)\n",
    "iraf.imarith('./data1/SUPA00317705.fits', '-' , 'bias2t.fits', 'btarget1n5by.fits')\n",
    "iraf.imarith('btarget1n5by.fits', '/', 'bflatn5by.fits', 'btarget1n5by.fits')"
   ]
  }
 ],
 "metadata": {
  "kernelspec": {
   "display_name": "Python 3",
   "language": "python",
   "name": "python3"
  },
  "language_info": {
   "codemirror_mode": {
    "name": "ipython",
    "version": 3
   },
   "file_extension": ".py",
   "mimetype": "text/x-python",
   "name": "python",
   "nbconvert_exporter": "python",
   "pygments_lexer": "ipython3",
   "version": "3.5.3"
  }
 },
 "nbformat": 4,
 "nbformat_minor": 2
}
