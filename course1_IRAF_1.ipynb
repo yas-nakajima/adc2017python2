{
 "cells": [
  {
   "cell_type": "markdown",
   "metadata": {},
   "source": [
    "## 講習1 --- IRAFを使ってみる\n",
    "\n",
    "旧来のIRAFの操作は、ターミナルからCLコマンドラインを使って対話的に行うものです。  \n",
    "この対話的な操作を、python + Jupyter notebookを使っても行うことができます。\n",
    "ここでは、IRAFの基本的なタスク、**display, imexam, imstat** を使ってみます。  \n",
    "\n",
    "### pyrafのための準備  \n",
    "\n",
    "pythonからIRAFを使うにはpyrafを利用します。  \n",
    "pyrafを(便利に)使うためには、  \n",
    "\n",
    "- ホームディレクトリにirafというディレクトリを作成\n",
    "- そのディレクトリ内で mkirafを実行し、login.cl を作成\n",
    "- 必要に応じてそのlogin.clを編集  \n",
    "    (今回のサンプルデータの場合、26行目あたりの'#set stdimage = imt800'を  \n",
    "    'set stdimage = imt4096'にしておくとよいでしょう。冒頭の#を取り除き、800を4096に)\n",
    "\n",
    "をしておきます。 こうしておくと、login.clでの設定がpyraf利用時に反映されます。また、~/iraf/uparm/に各タスク(imexam, imstatなど)のパラメータが保存されます。　　\n",
    "\n",
    "**_補足_** :  ~/.iraf/login.cl がある場合には、そちらの設定が使用されます。  \n",
    "自分のホームディレクトリ化にIRAFをローカルインストールした場合、~/.iraf というディレクトリが作成されます。  "
   ]
  },
  {
   "cell_type": "markdown",
   "metadata": {},
   "source": [
    "### モジュールの読み込み"
   ]
  },
  {
   "cell_type": "code",
   "execution_count": 1,
   "metadata": {},
   "outputs": [
    {
     "name": "stdout",
     "output_type": "stream",
     "text": [
      "Warning: sscanf library not installed on darwin\n"
     ]
    }
   ],
   "source": [
    "from pyraf import iraf "
   ]
  },
  {
   "cell_type": "markdown",
   "metadata": {},
   "source": [
    "これでirafのタスクをpythonで関数として使うことができます。(macでは'Warning : sscanf library not ... 'がでることがあります。とりえあず無視してください。)"
   ]
  },
  {
   "cell_type": "markdown",
   "metadata": {},
   "source": [
    "### サンプルデータ\n",
    "\n",
    "サンプルデータとして、すばるSuprime Camで取得したデータを使います。 (SMOKAで公開されているデータです。) 同じディレクトリの data1 および data2 の中のFITSファイルです。　　\n",
    "\n",
    "この講習では、2004-06-21の観測データの一部を利用します。フィルターはBバンドで、ドームフラットおよび二種類のターゲットの生データです。Suprime Camは10枚のCCDから成ります。ファイル名(拡張子除く)の末尾の数字がCCDの番号を示しています。\n",
    "data1には5番フレーム、data2には2番フレームのデータがあります。例えば、data1/SUPA00317705.fitsとdata2/SUPA00317702.fits は同じ積分のそれぞれ、5番フレームと2番フレームのデータです。講習のなかでは主に5番フレームを用いて説明をします。演習の中で2番フレームを使うことがあります。\n",
    "\n",
    "| FITSファイル| OBJECT | フィルター | 積分時間(秒) |  \n",
    "| :- | :- | :- | :- | \n",
    "| data1/SUPA003175[0-6]5.fits  |  ドームフラット | B | 10 | \n",
    "| data1/SUPA00317705.fits  | target1 | B | 10 | \n",
    "| data1/SUPA00317885.fits  | target2 | B | 30 | \n",
    "| data2/SUPA003175[0-6]2.fits  |  ドームフラット | B | 10 | \n",
    "| data2/SUPA00317702.fits  | target1 | B | 10 | \n",
    "| data2/SUPA00317882.fits  | target2 | B | 30 | \n",
    "\n",
    "<img src='./img/SUPA0031770X.png', width='500'>  \n",
    "\n",
    "#### Unixコマンド\n",
    "\n",
    "Unixコマンドを使い、カレントディレクトリおよびその中身を確認することができます。"
   ]
  },
  {
   "cell_type": "code",
   "execution_count": 2,
   "metadata": {},
   "outputs": [
    {
     "data": {
      "text/plain": [
       "'/Users/nakajima/git/adc2017python2'"
      ]
     },
     "execution_count": 2,
     "metadata": {},
     "output_type": "execute_result"
    }
   ],
   "source": [
    "pwd"
   ]
  },
  {
   "cell_type": "code",
   "execution_count": 3,
   "metadata": {},
   "outputs": [
    {
     "name": "stdout",
     "output_type": "stream",
     "text": [
      "SUPA00317505.fits  SUPA00317535.fits  SUPA00317565.fits\r\n",
      "SUPA00317515.fits  SUPA00317545.fits  SUPA00317705.fits\r\n",
      "SUPA00317525.fits  SUPA00317555.fits  SUPA00317885.fits\r\n"
     ]
    }
   ],
   "source": [
    "ls data1"
   ]
  },
  {
   "cell_type": "markdown",
   "metadata": {},
   "source": [
    "いくつかのUnixコマンドは、このように、jupyter notebookで直接使えます。使えないものもあります。その場合、! を冒頭につけて使用してやります。"
   ]
  },
  {
   "cell_type": "code",
   "execution_count": 6,
   "metadata": {},
   "outputs": [
    {
     "name": "stdout",
     "output_type": "stream",
     "text": [
      "2017年 8月21日 月曜日 10時01分36秒 JST\r\n"
     ]
    }
   ],
   "source": [
    "! date"
   ]
  },
  {
   "cell_type": "markdown",
   "metadata": {},
   "source": [
    "それでは、IRAFのコマンド、display, imexam, imstatを使って、それらファイルの表示やデータの吟味、統計量の測定をしてみましょう。"
   ]
  },
  {
   "cell_type": "markdown",
   "metadata": {},
   "source": [
    "### DS9にFITSデータを表示してみる\n",
    "\n",
    "別のターミナルからds9を立ち上げておきます。  \n",
    "irafモジュールのdisplay()関数を使い、引数としてファイルを指定します。target1の5番フレームを表示してみます。"
   ]
  },
  {
   "cell_type": "code",
   "execution_count": 7,
   "metadata": {},
   "outputs": [
    {
     "name": "stdout",
     "output_type": "stream",
     "text": [
      "z1=10012.29 z2=10105.81\n"
     ]
    }
   ],
   "source": [
    "iraf.display('data1/SUPA00317705.fits')"
   ]
  },
  {
   "cell_type": "markdown",
   "metadata": {},
   "source": [
    "ds9に、星がいくつか写っている視野が表示されましたね。  \n",
    "(**FAQ** ~/iraf/login.cl で set stdimage = imt800 のままだと視野の中心付近の800x800の領域しか表示されません。)"
   ]
  },
  {
   "cell_type": "markdown",
   "metadata": {},
   "source": [
    "### imexam \n",
    "ds9にFITS画像を表示した状態で、次のコマンドを実行し、マウスカーソルを、星のないところにあてて**m**、あるいは星にあてて**a**や**r**をタイプしてみましょう。終わるときには**q**をタイプしてください。  \n",
    "\n",
    "**m**は、カウスカーソルを当てた部分の5x5ピクセルの範囲のカウント値の統計を表示します。バックグラウンドの値、ばらつきなどを調べるときに使います。  \n",
    "**a**は、星(点光源)の特徴量(ピーク値、fwhmなど)を表示します。  \n",
    "**r**は、星のradial profileを表示します。 星がサチっていれば一目でわかります。  "
   ]
  },
  {
   "cell_type": "code",
   "execution_count": 8,
   "metadata": {},
   "outputs": [
    {
     "name": "stdout",
     "output_type": "stream",
     "text": [
      "#            SECTION     NPIX     MEAN   MEDIAN   STDDEV      MIN      MAX\n",
      "[1170:1174,1963:1967]       25   10060.   10057.    14.95   10041.   10115.\n",
      "#   COL    LINE     COORDINATES\n",
      "#     R    MAG    FLUX     SKY    PEAK    E   PA BETA ENCLOSED   MOFFAT DIRECT\n",
      "1238.67 1913.38 1238.67 1913.38\n",
      "  21.61  13.08  58358.  10059.    868. 0.04   22 3.00     7.18     7.20   7.20\n",
      " 21.61  13.08  58358.  10059.    868. 0.04   22 3.00     7.18     7.20   7.20\n"
     ]
    }
   ],
   "source": [
    "iraf.imexam()"
   ]
  },
  {
   "cell_type": "markdown",
   "metadata": {
    "collapsed": true
   },
   "source": [
    "imexamでは、**r**とか**e**コマンドを使うとさらに別のグラフィックウィンドウが現れます。ブラウザとかの後ろに隠れているかもしれません。"
   ]
  },
  {
   "cell_type": "markdown",
   "metadata": {},
   "source": [
    "### imstat \n",
    "FITS画像の統計量を調べるタスクimstatを使ってみましょう。"
   ]
  },
  {
   "cell_type": "code",
   "execution_count": 9,
   "metadata": {
    "collapsed": true
   },
   "outputs": [],
   "source": [
    "iraf.imstat.unlearn()  #  パラメータをデフォルト値に"
   ]
  },
  {
   "cell_type": "code",
   "execution_count": 10,
   "metadata": {},
   "outputs": [
    {
     "name": "stdout",
     "output_type": "stream",
     "text": [
      "#               IMAGE      NPIX      MEAN    STDDEV       MIN       MAX\n",
      " data1/SUPA00317705.fits   8528000    10059.     108.3     9911.    43932.\n"
     ]
    }
   ],
   "source": [
    "iraf.imstat('data1/SUPA00317705.fits')"
   ]
  },
  {
   "cell_type": "markdown",
   "metadata": {},
   "source": [
    "### eparでパラメータ設定 \n",
    "**iraf.epar('タスク名')** で、パラメータ設定の画面が別ウィンドウで開きます。GUIでパラメータ設定ができます。\n",
    "(2017-07 MacOS Sierra + Python3.5.3 + Jupyter Notebook では iraf.epar('display')などでUnicodeDecodeErrorが生じる)"
   ]
  },
  {
   "cell_type": "code",
   "execution_count": 11,
   "metadata": {},
   "outputs": [
    {
     "name": "stdout",
     "output_type": "stream",
     "text": [
      "\n",
      "Task imstatistics is running...\n",
      "\n",
      "#     MIDPT      MEAN    STDDEV\n",
      "     10058.    10059.     108.3\n"
     ]
    }
   ],
   "source": [
    "iraf.epar('imstat')"
   ]
  },
  {
   "cell_type": "markdown",
   "metadata": {},
   "source": [
    "このように、GUIでもパラメータ設定ができるのですが、ここでは次の方法をおすすめします。  \n",
    "\n",
    "\n",
    "### 変数としてパラメータ設定\n",
    "\n",
    "Cellでタスクの変数にパラメータを代入してやります。この方法だと、使ったパラメータがこのノートブックに残るので、あとになって「この処理でどんなパラメータ使ったっけ？」となったときに助けになります。"
   ]
  },
  {
   "cell_type": "code",
   "execution_count": 12,
   "metadata": {
    "collapsed": true
   },
   "outputs": [],
   "source": [
    "iraf.imstat.fields = 'midpt, mean, stddev'\n",
    "iraf.imstat.lower = 9950\n",
    "iraf.imstat.upper = 11000"
   ]
  },
  {
   "cell_type": "code",
   "execution_count": 13,
   "metadata": {},
   "outputs": [
    {
     "name": "stdout",
     "output_type": "stream",
     "text": [
      "#     MIDPT      MEAN    STDDEV\n",
      "     10058.    10058.     15.38\n"
     ]
    }
   ],
   "source": [
    "iraf.imstat('data1/SUPA00317705.fits')"
   ]
  },
  {
   "cell_type": "markdown",
   "metadata": {},
   "source": [
    "どんな値がパラメータに入っているかを確認するには、それをprint()してやればよいです。"
   ]
  },
  {
   "cell_type": "code",
   "execution_count": 14,
   "metadata": {},
   "outputs": [
    {
     "name": "stdout",
     "output_type": "stream",
     "text": [
      "midpt, mean, stddev\n"
     ]
    }
   ],
   "source": [
    "print (iraf.imstat.fields)"
   ]
  },
  {
   "cell_type": "markdown",
   "metadata": {},
   "source": [
    "### 結果の値を変数へ\n",
    "\n",
    "上ではimstat()の結果が標準出力に表示されました。それぞれの値を変数に保存するには次のようにします。"
   ]
  },
  {
   "cell_type": "code",
   "execution_count": 15,
   "metadata": {},
   "outputs": [
    {
     "name": "stdout",
     "output_type": "stream",
     "text": [
      "10058.02\n",
      "10057.7\n",
      "15.38449\n",
      "10104.17347\n"
     ]
    }
   ],
   "source": [
    "out = iraf.imstat('data1/SUPA00317705.fits', format='no', Stdout=1) \n",
    "# format='no' でヘッダ行非表示、Stdout=1で戻り値を返す\n",
    "\n",
    "v = out[0].split()  #  戻り値はリスト\n",
    "median = float(v[0])   # 文字列をfloatに変換しておく\n",
    "mean = float(v[1])\n",
    "stddev = float(v[2])\n",
    "print (median)\n",
    "print (mean)\n",
    "print (stddev)\n",
    "print (median + 3 * stddev) # floatに変換しておかないとここでおかしなことになる"
   ]
  },
  {
   "cell_type": "markdown",
   "metadata": {},
   "source": [
    "デフォルトではStdout=0なので標準出力に値が返ります。戻り値を変数として返す場合にはStdout=1とします。"
   ]
  },
  {
   "cell_type": "markdown",
   "metadata": {},
   "source": [
    "### helpドキュメント\n",
    "\n",
    "このノートブック内でhelpを読むこともできます。  \n",
    "helpの表示が縦に長すぎる場合、左の余白部分(In[]: の下あたり)をクリックするとスクロールバーつきウインドウ表示になります。\n",
    "(私の環境でブラウザChromeの場合にはデフォルトでスクロールバー表示されます。)"
   ]
  },
  {
   "cell_type": "code",
   "execution_count": 16,
   "metadata": {
    "collapsed": true,
    "scrolled": true
   },
   "outputs": [],
   "source": [
    "#iraf.help('imstat')   #  Githubでは表示が長くなってしまうのでコメントアウトしておきます"
   ]
  },
  {
   "cell_type": "markdown",
   "metadata": {
    "collapsed": true
   },
   "source": [
    "### 演習1    \n",
    "data1/SUPA00317885.fitsはtarget2の生データです。  \n",
    "新しいノートブックファイルを作成し、\n",
    "1. imexamでバックグラウンドの値とばらつき、星の特徴量、を調べる。\n",
    "2. imstatでカウント値のmedian, mean, standard deviationを求める。\n",
    "3. imstatのnclipを2以上にしてみてください。どうなりましたか？"
   ]
  }
 ],
 "metadata": {
  "kernelspec": {
   "display_name": "Python 3",
   "language": "python",
   "name": "python3"
  },
  "language_info": {
   "codemirror_mode": {
    "name": "ipython",
    "version": 3
   },
   "file_extension": ".py",
   "mimetype": "text/x-python",
   "name": "python",
   "nbconvert_exporter": "python",
   "pygments_lexer": "ipython3",
   "version": "3.5.3"
  }
 },
 "nbformat": 4,
 "nbformat_minor": 1
}
